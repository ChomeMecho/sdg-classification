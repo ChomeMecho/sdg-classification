{
 "cells": [
  {
   "cell_type": "code",
   "execution_count": 2,
   "metadata": {},
   "outputs": [
    {
     "name": "stderr",
     "output_type": "stream",
     "text": [
      "/home/chome/documents/cours/s5/pfe/pfe_env/lib/python3.12/site-packages/tqdm/auto.py:21: TqdmWarning: IProgress not found. Please update jupyter and ipywidgets. See https://ipywidgets.readthedocs.io/en/stable/user_install.html\n",
      "  from .autonotebook import tqdm as notebook_tqdm\n",
      "2025-02-27 12:32:42.779005: E external/local_xla/xla/stream_executor/cuda/cuda_fft.cc:477] Unable to register cuFFT factory: Attempting to register factory for plugin cuFFT when one has already been registered\n",
      "WARNING: All log messages before absl::InitializeLog() is called are written to STDERR\n",
      "E0000 00:00:1740655962.860136    1401 cuda_dnn.cc:8310] Unable to register cuDNN factory: Attempting to register factory for plugin cuDNN when one has already been registered\n",
      "E0000 00:00:1740655962.883301    1401 cuda_blas.cc:1418] Unable to register cuBLAS factory: Attempting to register factory for plugin cuBLAS when one has already been registered\n",
      "2025-02-27 12:32:43.089776: I tensorflow/core/platform/cpu_feature_guard.cc:210] This TensorFlow binary is optimized to use available CPU instructions in performance-critical operations.\n",
      "To enable the following instructions: AVX2 FMA, in other operations, rebuild TensorFlow with the appropriate compiler flags.\n",
      "[nltk_data] Downloading package punkt_tab to /home/chome/nltk_data...\n",
      "[nltk_data]   Package punkt_tab is already up-to-date!\n"
     ]
    }
   ],
   "source": [
    "from transformers import pipeline\n",
    "import nltk\n",
    "nltk.download('punkt_tab')\n",
    "from nltk.tokenize import sent_tokenize\n",
    "import time\n",
    "from datasets import Dataset"
   ]
  },
  {
   "cell_type": "code",
   "execution_count": 3,
   "metadata": {},
   "outputs": [
    {
     "name": "stderr",
     "output_type": "stream",
     "text": [
      "Device set to use cuda:0\n"
     ]
    }
   ],
   "source": [
    "# Initialisation du pipeline zero-shot classification\n",
    "\n",
    "# Bart large mnli => plusieurs minutes d'inférence => pas terrible du tout \n",
    "classifier = pipeline(\"zero-shot-classification\", model=\"facebook/bart-large-mnli\", )\n",
    "# Use a pipeline as a high-level helper\n",
    "\n",
    "# distilbart-mnli-12-1 => environ 3 secondes d'inférence pour un même texte, beaucoup plus rapide pour des résultats qui ne sont pas tant que ça moins bons\n",
    "\n",
    "# classifier = pipeline(\"zero-shot-classification\", model=\"valhalla/distilbart-mnli-12-1\")\n",
    "# classifier = pipeline(\"zero-shot-classification\", model=\"valhalla/distilbart-mnli-12-3\")\n",
    "# classifier = pipeline(\"zero-shot-classification\", model=\"valhalla/distilbart-mnli-12-6\")\n",
    "# classifier = pipeline(\"zero-shot-classification\", model=\"valhalla/distilbart-mnli-12-9\")\n"
   ]
  },
  {
   "cell_type": "code",
   "execution_count": 39,
   "metadata": {},
   "outputs": [],
   "source": [
    "# Définition des 17 ODD comme labels candidats\n",
    "# candidate_labels = [\n",
    "#     \"ODD 1: Pas de pauvreté\",\n",
    "#     \"ODD 2: Faim Zéro\",\n",
    "#     \"ODD 3: Bonne santé et bien-être\",\n",
    "#     \"ODD 4: Éducation de qualité\",\n",
    "#     \"ODD 5: Égalité entre les sexes\",\n",
    "#     \"ODD 6: Eau propre et assainissement\",\n",
    "#     \"ODD 7: Énergie propre et d'un coût abordable\",\n",
    "#     \"ODD 8: Travail décent et croissance économique\",\n",
    "#     \"ODD 9: Industrie, innovation et infrastructure\",\n",
    "#     \"ODD 10: Inégalités réduites\",\n",
    "#     \"ODD 11: Villes et communautés durables\",\n",
    "#     \"ODD 12: Consommation et production responsables\",\n",
    "#     \"ODD 13: Lutte contre le changement climatique\",\n",
    "#     \"ODD 14: Vie aquatique\",\n",
    "#     \"ODD 15: Vie terrestre\",\n",
    "#     \"ODD 16: Paix, justice et institutions efficaces\",\n",
    "#     \"ODD 17: Partenariats pour la réalisation des objectifs\"\n",
    "# ]\n",
    "\n",
    "# candidate_labels = [\n",
    "#     \"Pas de pauvreté\",\n",
    "#     \"Faim Zéro\",\n",
    "#     \"Bonne santé et bien-être\",\n",
    "#     \"Éducation de qualité\",\n",
    "#     \"Égalité entre les sexes\",\n",
    "#     \"Eau propre et assainissement\",\n",
    "#     \"Énergie propre et d'un coût abordable\",\n",
    "#     \"Travail décent et croissance économique\",\n",
    "#     \"Industrie, innovation et infrastructure\",\n",
    "#     \"Inégalités réduites\",\n",
    "#     \"Villes et communautés durables\",\n",
    "#     \"Consommation et production responsables\",\n",
    "#     \"Lutte contre le changement climatique\",\n",
    "#     \"Vie aquatique\",\n",
    "#     \"Vie terrestre\",\n",
    "#     \"Paix, justice et institutions efficaces\",\n",
    "#     \"Partenariats pour la réalisation des objectifs\"\n",
    "# ]\n",
    "\n",
    "\n",
    "# candidate_labels = [\n",
    "#     \"Pas de pauvreté : Éliminer la pauvreté sous toutes ses formes et partout dans le monde\",\n",
    "#     \"Faim Zéro : Éliminer la faim, assurer la sécurité alimentaire, améliorer la nutrition et promouvoir une agriculture durable\",\n",
    "#     \"Bonne santé et bien-être : Donner aux individus les moyens de vivre une vie saine et promouvoir le bien-être à tous les âges\",\n",
    "#     \"Éducation de qualité : Veiller à ce que tous puissent suivre une éducation de qualité dans des conditions d'équité et promouvoir les possibilités d'apprentissage tout au long de la vie\",\n",
    "#     \"Égalité entre les sexes : Réaliser l'égalité des sexes et autonomiser toutes les femmes et les filles\",\n",
    "#     \"Eau propre et assainissement : Garantir l'accès de tous à l'eau et à l'assainissement et assurer une gestion durable des ressources en eau\",\n",
    "#     \"Énergie propre et d'un coût abordable : Garantir l'accès de tous à des services énergétiques fiables, durables et modernes, à un coût abordable\",\n",
    "#     \"Travail décent et croissance économique : Promouvoir une croissance économique soutenue, partagée et durable, le plein emploi productif et un travail décent pour tous\",\n",
    "#     \"Industrie, innovation et infrastructure : Mettre en place une infrastructure résiliente, promouvoir une industrialisation durable qui profite à tous et encourager l'innovation\",\n",
    "#     \"Inégalités réduites : Réduire les inégalités entre les pays et en leur sein\",\n",
    "#     \"Villes et communautés durables : Faire en sorte que les villes et les établissements humains soient ouverts à tous, sûrs, résilients et durables\",\n",
    "#     \"Consommation et production responsables : Établir des modes de consommation et de production durables\",\n",
    "#     \"Lutte contre le changement climatique : Prendre d'urgence des mesures pour lutter contre les changements climatiques et leurs répercussions\",\n",
    "#     \"Vie aquatique : Conserver et exploiter de manière durable les océans, les mers et les ressources marines aux fins du développement durable\",\n",
    "#     \"Vie terrestre : Préserver et restaurer les écosystèmes terrestres\",\n",
    "#     \"Paix, justice et institutions efficaces : Promouvoir l'avènement de sociétés pacifiques et ouvertes aux fins du développement durable\",\n",
    "#     \"Partenariats pour la réalisation des objectifs : Partenariats pour la réalisation des objectifs\"\n",
    "# ]\n",
    "\n",
    "\n",
    "candidate_labels = [\n",
    "    \"Pauvreté\",\n",
    "    \"Faim\",\n",
    "    \"Bonne santé\",\n",
    "    \"Éducation\",\n",
    "    \"Égalité entre les sexes\",\n",
    "    \"Eau propre\",\n",
    "    \"Énergie coût abordable\",\n",
    "    \"Travail et croissance économique\",\n",
    "    \"Industrie, innovation et infrastructure\",\n",
    "    \"Inégalités réduites\",\n",
    "    \"Villes durables\",\n",
    "    \"Consommation et production responsables\",\n",
    "    \"changement climatique\",\n",
    "    \"Vie aquatique\",\n",
    "    \"Vie terrestre\",\n",
    "    \"Paix, justice et institutions efficaces\",\n",
    "    \"Partenariats pour la réalisation des objectifs\"\n",
    "]"
   ]
  },
  {
   "cell_type": "code",
   "execution_count": 40,
   "metadata": {},
   "outputs": [],
   "source": [
    "def classify_thesis(text):\n",
    "    # Découper le texte en phrases\n",
    "    sentences = sent_tokenize(text, language=\"french\")\n",
    "    \n",
    "    # Stocker les résultats pour chaque phrase\n",
    "    results = []\n",
    "    nb_sentences = len(sentences)\n",
    "    for sentence in sentences:\n",
    "        res = classifier(sentence, candidate_labels, multi_label=True)\n",
    "        results.append(res)\n",
    "    return sentences, results, nb_sentences"
   ]
  },
  {
   "cell_type": "code",
   "execution_count": null,
   "metadata": {},
   "outputs": [],
   "source": [
    "text = \"\"\"\n",
    "Test qui parle de vie marine et de pollution. Il y a des poissons dans l'eau. Il y a de la pollution dans l'eau. La vie aquatique est menacée par la pollution. Heureusement les états se sont engagés à protéger la vie aquatique.\n",
    "\"\"\"\n"
   ]
  },
  {
   "cell_type": "code",
   "execution_count": 42,
   "metadata": {},
   "outputs": [],
   "source": [
    "# res = classifier(text, candidate_labels, multi_label=True)\n",
    "# print(res)"
   ]
  },
  {
   "cell_type": "code",
   "execution_count": 43,
   "metadata": {},
   "outputs": [],
   "source": [
    "\n",
    "start_time = time.time()\n",
    "\n",
    "sentences, results, nb_sentences = classify_thesis(text)\n",
    "\n",
    "end_time = time.time()\n",
    "inference_time = end_time - start_time"
   ]
  },
  {
   "cell_type": "code",
   "execution_count": 44,
   "metadata": {},
   "outputs": [
    {
     "name": "stdout",
     "output_type": "stream",
     "text": [
      "[{'sequence': \"\\nLa logistique a connu un essor considérable dans les entreprises à travers de profondes transformations de pratiques de gestion, et d'évolutions de contexte économique et technologique.\", 'labels': ['Consommation et production responsables', 'Partenariats pour la réalisation des objectifs', 'Pauvreté', 'Travail et croissance économique', 'Industrie, innovation et infrastructure', 'Faim', 'Villes durables', 'Vie terrestre', 'Énergie coût abordable', 'Eau propre', 'Vie aquatique', 'Inégalités réduites', 'Paix, justice et institutions efficaces', 'Égalité entre les sexes', 'Bonne santé', 'changement climatique', 'Éducation'], 'scores': [0.3242719769477844, 0.25047048926353455, 0.1780506670475006, 0.16419124603271484, 0.16395454108715057, 0.14699722826480865, 0.1294001191854477, 0.0783952996134758, 0.045937005430459976, 0.021393558010458946, 0.0133826257660985, 0.01281090546399355, 0.004973263014107943, 0.003532069968059659, 0.0017934668576344848, 0.0015094922855496407, 0.0012765801511704922]}, {'sequence': \"Cette progression a mené à la formation de réseaux de partenaires, la « supplie Chain », intégrant différents flux d'informations, physiques, et financiers.\", 'labels': ['Partenariats pour la réalisation des objectifs', 'Industrie, innovation et infrastructure', 'Travail et croissance économique', 'Faim', 'Consommation et production responsables', 'Vie aquatique', 'Vie terrestre', 'Villes durables', 'Pauvreté', 'Énergie coût abordable', 'Éducation', 'Eau propre', 'Inégalités réduites', 'Bonne santé', 'Égalité entre les sexes', 'changement climatique', 'Paix, justice et institutions efficaces'], 'scores': [0.8855230212211609, 0.7869383692741394, 0.2896967828273773, 0.23519937694072723, 0.2045217603445053, 0.20401246845722198, 0.19665178656578064, 0.19142740964889526, 0.18109455704689026, 0.10619113594293594, 0.07425133138895035, 0.0356944277882576, 0.030828170478343964, 0.016693592071533203, 0.01484665460884571, 0.009322285652160645, 0.004674688447266817]}, {'sequence': \"Ce nouvel écosystème a progressivement permis de développer des stratégies pour faire face à la montée en puissance de la mondialisation, comme de se doter d'outils informatiques innovants.\", 'labels': ['Industrie, innovation et infrastructure', 'Vie aquatique', 'Travail et croissance économique', 'Faim', 'Partenariats pour la réalisation des objectifs', 'Consommation et production responsables', 'Villes durables', 'Éducation', 'Vie terrestre', 'Pauvreté', 'Eau propre', 'Paix, justice et institutions efficaces', 'Énergie coût abordable', 'Bonne santé', 'Égalité entre les sexes', 'changement climatique', 'Inégalités réduites'], 'scores': [0.5586145520210266, 0.461525559425354, 0.4352385997772217, 0.3939611315727234, 0.3516814112663269, 0.276594340801239, 0.2709859609603882, 0.26655086874961853, 0.2508678436279297, 0.2050023376941681, 0.06432537734508514, 0.05539613217115402, 0.02935185842216015, 0.021749526262283325, 0.010592040605843067, 0.005995855201035738, 0.005802135914564133]}, {'sequence': \"Ceux-ci permettent de réels progrès à la fois en interne sur la performance de la production, mais également en externe, influençant la collaboration inter organisationnelle entre parties prenantes de l'écosystème.\", 'labels': ['Partenariats pour la réalisation des objectifs', 'Industrie, innovation et infrastructure', 'Consommation et production responsables', 'Travail et croissance économique', 'Vie terrestre', 'Villes durables', 'Faim', 'Paix, justice et institutions efficaces', 'Vie aquatique', 'Pauvreté', 'changement climatique', 'Eau propre', 'Bonne santé', 'Inégalités réduites', 'Éducation', 'Énergie coût abordable', 'Égalité entre les sexes'], 'scores': [0.9171446561813354, 0.7657537460327148, 0.7060900330543518, 0.5502358078956604, 0.3258485496044159, 0.25915828347206116, 0.2344757318496704, 0.22815096378326416, 0.18119221925735474, 0.15026356279850006, 0.13085851073265076, 0.12853789329528809, 0.09839464724063873, 0.067642442882061, 0.05303061380982399, 0.047703929245471954, 0.039926160126924515]}, {'sequence': \"Une nouvelle technologie disruptive dans l'industrie fait son apparition en 2008, la blockchain, permettant aux entreprises d'adresser les clés nécessaires aux nouveaux enjeux présents dans la supplie Chain.\", 'labels': ['Industrie, innovation et infrastructure', 'Consommation et production responsables', 'Pauvreté', 'Faim', 'Villes durables', 'Vie terrestre', 'Travail et croissance économique', 'Eau propre', 'Inégalités réduites', 'Vie aquatique', 'Partenariats pour la réalisation des objectifs', 'Bonne santé', 'Énergie coût abordable', 'Égalité entre les sexes', 'Paix, justice et institutions efficaces', 'Éducation', 'changement climatique'], 'scores': [0.9368324875831604, 0.26596590876579285, 0.10736899077892303, 0.06890591233968735, 0.06730407476425171, 0.061299875378608704, 0.018191145732998848, 0.010193360969424248, 0.009266958571970463, 0.008769429288804531, 0.00812066812068224, 0.0062094079330563545, 0.002573146717622876, 0.0025718752294778824, 0.0007851172122173011, 0.0006311690667644143, 0.00034678648808039725]}, {'sequence': \"La blockchain est une technologie de stockage et de transmission de données, décentralisée et distribuée, capable de sécuriser des transactions et d'avoir un registre immuable des données.\", 'labels': ['Villes durables', 'Faim', 'Pauvreté', 'Vie terrestre', 'Inégalités réduites', 'Bonne santé', 'Industrie, innovation et infrastructure', 'Eau propre', 'Énergie coût abordable', 'Éducation', 'Travail et croissance économique', 'Partenariats pour la réalisation des objectifs', 'Paix, justice et institutions efficaces', 'Vie aquatique', 'Égalité entre les sexes', 'Consommation et production responsables', 'changement climatique'], 'scores': [0.22318466007709503, 0.2120017111301422, 0.19082459807395935, 0.16121098399162292, 0.15821526944637299, 0.10786012560129166, 0.10086473077535629, 0.06809749454259872, 0.06348824501037598, 0.059994105249643326, 0.059769075363874435, 0.037319958209991455, 0.027303513139486313, 0.024476956576108932, 0.012178410775959492, 0.010028368793427944, 0.004555982071906328]}, {'sequence': \"Cette thèse de doctorat s'intéresse à la blockchain et aux réponses qu'elle peut apporter au sein d'une supplie Chain sujette à de nombreux enjeux.\", 'labels': ['Pauvreté', 'Consommation et production responsables', 'Faim', 'Industrie, innovation et infrastructure', 'Vie terrestre', 'Villes durables', 'Partenariats pour la réalisation des objectifs', 'Travail et croissance économique', 'Inégalités réduites', 'Bonne santé', 'Énergie coût abordable', 'Eau propre', 'Égalité entre les sexes', 'Paix, justice et institutions efficaces', 'Vie aquatique', 'Éducation', 'changement climatique'], 'scores': [0.10665557533502579, 0.09279164671897888, 0.07673987001180649, 0.0618479959666729, 0.03810201585292816, 0.03725595027208328, 0.028286732733249664, 0.027178877964615822, 0.0157171543687582, 0.009206242859363556, 0.0032616944517940283, 0.00318541144952178, 0.0030536197591573, 0.002345551736652851, 0.001007814658805728, 0.0008652497199364007, 0.00048107714974321425]}, {'sequence': \"Elle adopte une méthodologie abductive basée sur de la littérature, de l'exploration de terrain et des études de cas multiples.\", 'labels': ['Vie terrestre', 'Faim', 'Pauvreté', 'Villes durables', 'Inégalités réduites', 'Partenariats pour la réalisation des objectifs', 'Bonne santé', 'Vie aquatique', 'Éducation', 'Eau propre', 'changement climatique', 'Travail et croissance économique', 'Paix, justice et institutions efficaces', 'Énergie coût abordable', 'Égalité entre les sexes', 'Consommation et production responsables', 'Industrie, innovation et infrastructure'], 'scores': [0.8019072413444519, 0.4233946204185486, 0.37600192427635193, 0.35323089361190796, 0.2384296953678131, 0.22373181581497192, 0.17544375360012054, 0.17145216464996338, 0.14843331277370453, 0.1351308524608612, 0.12323757261037827, 0.05957271531224251, 0.0443761944770813, 0.04411995783448219, 0.03032848797738552, 0.008290558122098446, 0.001219466794282198]}, {'sequence': \"La thèse s'attache dans un premier temps à étudier la littérature sur le sujet et réaliser une analyse exploratoire du terrain.\", 'labels': ['Vie terrestre', 'Partenariats pour la réalisation des objectifs', 'Travail et croissance économique', 'changement climatique', 'Faim', 'Inégalités réduites', 'Villes durables', 'Éducation', 'Pauvreté', 'Paix, justice et institutions efficaces', 'Vie aquatique', 'Bonne santé', 'Consommation et production responsables', 'Eau propre', 'Égalité entre les sexes', 'Industrie, innovation et infrastructure', 'Énergie coût abordable'], 'scores': [0.9018491506576538, 0.7449538111686707, 0.655830442905426, 0.6240081191062927, 0.4443240165710449, 0.44179195165634155, 0.4313872456550598, 0.37382152676582336, 0.34304991364479065, 0.23771852254867554, 0.21826787292957306, 0.17046883702278137, 0.17044736444950104, 0.09769931435585022, 0.09388840943574905, 0.08936343342065811, 0.06464139372110367]}, {'sequence': \"L'exploration du terrain et de la littérature investigue plusieurs secteurs d'activités ayant adopté la blockchain, afin de comprendre les motivations des acteurs et les enjeux relatifs à l'implémentation de cette technologie.\", 'labels': ['Vie terrestre', 'Industrie, innovation et infrastructure', 'Travail et croissance économique', 'Consommation et production responsables', 'Paix, justice et institutions efficaces', 'Faim', 'Pauvreté', 'Villes durables', 'Partenariats pour la réalisation des objectifs', 'Eau propre', 'Vie aquatique', 'Éducation', 'Énergie coût abordable', 'Inégalités réduites', 'Bonne santé', 'Égalité entre les sexes', 'changement climatique'], 'scores': [0.712664008140564, 0.42507269978523254, 0.3725001811981201, 0.2834586203098297, 0.24458278715610504, 0.19635216891765594, 0.1482488214969635, 0.1180957704782486, 0.0874183177947998, 0.033570796251297, 0.032755047082901, 0.03258204460144043, 0.02796206995844841, 0.027886690571904182, 0.0189162977039814, 0.005828722845762968, 0.0037536316085606813]}, {'sequence': \"La littérature ainsi que l'analyse qualitative permettent la mise en évidence des secteurs dans lesquels la technologie est la plus utilisée et mature, les modalités ainsi que les mécanismes de son adoption, ses freins.\", 'labels': ['Consommation et production responsables', 'Travail et croissance économique', 'Industrie, innovation et infrastructure', 'Partenariats pour la réalisation des objectifs', 'Faim', 'Villes durables', 'Vie terrestre', 'Vie aquatique', 'Énergie coût abordable', 'Éducation', 'Pauvreté', 'Paix, justice et institutions efficaces', 'Inégalités réduites', 'Eau propre', 'Bonne santé', 'Égalité entre les sexes', 'changement climatique'], 'scores': [0.5205954909324646, 0.5088151693344116, 0.4618454873561859, 0.4567040503025055, 0.3559303879737854, 0.3340553343296051, 0.2835509777069092, 0.2722456157207489, 0.2639200687408447, 0.2552906572818756, 0.2442687600851059, 0.21106001734733582, 0.16266463696956635, 0.16011901199817657, 0.14879825711250305, 0.048701878637075424, 0.04641643911600113]}, {'sequence': \"Cet aller-retour entre la littérature et le terrain conduit à l'élaboration d'un modèle conceptuel.\", 'labels': ['changement climatique', 'Partenariats pour la réalisation des objectifs', 'Faim', 'Vie terrestre', 'Villes durables', 'Pauvreté', 'Vie aquatique', 'Travail et croissance économique', 'Éducation', 'Industrie, innovation et infrastructure', 'Consommation et production responsables', 'Bonne santé', 'Eau propre', 'Inégalités réduites', 'Énergie coût abordable', 'Paix, justice et institutions efficaces', 'Égalité entre les sexes'], 'scores': [0.8013429045677185, 0.6269370913505554, 0.4411497414112091, 0.408174067735672, 0.40037351846694946, 0.375093936920166, 0.24545328319072723, 0.24508866667747498, 0.18111084401607513, 0.16889092326164246, 0.14036594331264496, 0.1220991462469101, 0.11668034642934799, 0.114317387342453, 0.050170719623565674, 0.00798653345555067, 0.004961180966347456]}, {'sequence': \"Deux principales questions de recherche émanent auxquelles nous cherchons à répondre par la suite : Dans quelle mesure la blockchain permet-elle de participer à l'alignement stratégique au sein d'une supplie Chain ?\", 'labels': ['Faim', 'Consommation et production responsables', 'Pauvreté', 'Travail et croissance économique', 'Vie terrestre', 'Inégalités réduites', 'Industrie, innovation et infrastructure', 'Villes durables', 'Partenariats pour la réalisation des objectifs', 'Énergie coût abordable', 'Bonne santé', 'Vie aquatique', 'Paix, justice et institutions efficaces', 'Eau propre', 'Égalité entre les sexes', 'Éducation', 'changement climatique'], 'scores': [0.3414756953716278, 0.24824243783950806, 0.23156285285949707, 0.19432444870471954, 0.17702218890190125, 0.16179990768432617, 0.15546564757823944, 0.15530715882778168, 0.08484398573637009, 0.07637625932693481, 0.06078973039984703, 0.04044901579618454, 0.03351206332445145, 0.026438329368829727, 0.011666314676404, 0.009361786767840385, 0.006607819814234972]}, {'sequence': \"Quels sont les facteurs d'adoption de la technologie ?\", 'labels': ['Industrie, innovation et infrastructure', 'Travail et croissance économique', 'Faim', 'Consommation et production responsables', 'Pauvreté', 'Partenariats pour la réalisation des objectifs', 'Vie aquatique', 'Villes durables', 'Vie terrestre', 'Énergie coût abordable', 'Eau propre', 'Éducation', 'Inégalités réduites', 'Bonne santé', 'Paix, justice et institutions efficaces', 'Égalité entre les sexes', 'changement climatique'], 'scores': [0.4446830749511719, 0.3298133313655853, 0.316244512796402, 0.23739060759544373, 0.218279168009758, 0.20449306070804596, 0.19912339746952057, 0.18754354119300842, 0.13766615092754364, 0.12344072014093399, 0.09272593259811401, 0.042869407683610916, 0.03212602064013481, 0.017387695610523224, 0.015377605333924294, 0.012725098989903927, 0.004529876168817282]}, {'sequence': \"Ces problématiques invitent à se questionner sur l'intérêt de la technologie comme outil pour obtenir des bénéfices intra et inters organisationnels.\", 'labels': ['Industrie, innovation et infrastructure', 'Consommation et production responsables', 'Faim', 'Partenariats pour la réalisation des objectifs', 'Pauvreté', 'Villes durables', 'Travail et croissance économique', 'Vie terrestre', 'Inégalités réduites', 'Paix, justice et institutions efficaces', 'Vie aquatique', 'Énergie coût abordable', 'Éducation', 'Eau propre', 'Bonne santé', 'Égalité entre les sexes', 'changement climatique'], 'scores': [0.8985642790794373, 0.3835356831550598, 0.284088134765625, 0.22501038014888763, 0.14433370530605316, 0.13111962378025055, 0.11677499860525131, 0.1004706397652626, 0.07590802013874054, 0.07060544937849045, 0.07042501866817474, 0.031619586050510406, 0.025547631084918976, 0.021628176793456078, 0.014185315929353237, 0.004518294241279364, 0.001771200099028647]}, {'sequence': \"Le cadre théorique choisi s'appuie sur la théorie néo-institutionnelle (Powell et Diageo 1991) et sur les modèles de l'alignement stratégique de la supplie Chain (Gatt orna 1998 ; Venkatraman et Henderson 1990).\", 'labels': ['Industrie, innovation et infrastructure', 'Consommation et production responsables', 'Vie terrestre', 'Villes durables', 'Énergie coût abordable', 'Vie aquatique', 'Faim', 'Eau propre', 'Partenariats pour la réalisation des objectifs', 'Inégalités réduites', 'Pauvreté', 'Bonne santé', 'Paix, justice et institutions efficaces', 'Travail et croissance économique', 'Éducation', 'Égalité entre les sexes', 'changement climatique'], 'scores': [0.49912959337234497, 0.3915719985961914, 0.18771249055862427, 0.16023214161396027, 0.1436985582113266, 0.13703887164592743, 0.13667188584804535, 0.13065893948078156, 0.1235199049115181, 0.10757465660572052, 0.09655315428972244, 0.07479248195886612, 0.062425799667835236, 0.05839800462126732, 0.0411330908536911, 0.02401944436132908, 0.003434021258726716]}, {'sequence': \"La dernière partie de la thèse permet d'adresser quelques éléments de réponses à travers six études de cas multiples dans le contexte d'industries agro-alimentaires.\", 'labels': ['Consommation et production responsables', 'Faim', 'Inégalités réduites', 'Villes durables', 'Partenariats pour la réalisation des objectifs', 'Vie terrestre', 'Pauvreté', 'Eau propre', 'Vie aquatique', 'Industrie, innovation et infrastructure', 'Énergie coût abordable', 'Bonne santé', 'Paix, justice et institutions efficaces', 'Travail et croissance économique', 'Égalité entre les sexes', 'changement climatique', 'Éducation'], 'scores': [0.6717569828033447, 0.44489485025405884, 0.384884238243103, 0.3342932164669037, 0.3320290744304657, 0.2563422918319702, 0.20977044105529785, 0.1261603981256485, 0.042644914239645004, 0.02431526966392994, 0.019667649641633034, 0.012406870722770691, 0.011789266020059586, 0.011484465561807156, 0.009575971402227879, 0.0011996697867289186, 0.001031519379466772]}, {'sequence': \"Les principaux résultats indiquent que les études de cas se différencient par certains facteurs de contingence positionnant les entreprises sur une stratégie d'adoption de la technologie ou due à des pressions institutionnelles.\", 'labels': ['Industrie, innovation et infrastructure', 'Travail et croissance économique', 'Consommation et production responsables', 'Paix, justice et institutions efficaces', 'Inégalités réduites', 'Partenariats pour la réalisation des objectifs', 'Faim', 'Villes durables', 'Vie terrestre', 'Pauvreté', 'Éducation', 'Vie aquatique', 'Énergie coût abordable', 'Eau propre', 'Bonne santé', 'changement climatique', 'Égalité entre les sexes'], 'scores': [0.890290379524231, 0.6329376697540283, 0.6320075392723083, 0.5356414318084717, 0.5235214829444885, 0.5231243371963501, 0.45801734924316406, 0.3931756019592285, 0.3745552599430084, 0.36911478638648987, 0.34440311789512634, 0.30640077590942383, 0.24899309873580933, 0.14451242983341217, 0.12465106695890427, 0.04026409611105919, 0.028067614883184433]}, {'sequence': 'Les facteurs de contingence identifiés distinguent deux types de supplie Chain adoptant la Blockchain.', 'labels': ['Consommation et production responsables', 'Pauvreté', 'Faim', 'Travail et croissance économique', 'Villes durables', 'Énergie coût abordable', 'Vie terrestre', 'Eau propre', 'Inégalités réduites', 'Vie aquatique', 'Industrie, innovation et infrastructure', 'Partenariats pour la réalisation des objectifs', 'Bonne santé', 'Éducation', 'Paix, justice et institutions efficaces', 'Égalité entre les sexes', 'changement climatique'], 'scores': [0.4315405488014221, 0.2655380368232727, 0.1981925368309021, 0.1577697992324829, 0.11767999082803726, 0.10258535295724869, 0.10009478032588959, 0.06352858990430832, 0.05774259567260742, 0.047900162637233734, 0.04768819734454155, 0.04386550933122635, 0.03819034993648529, 0.01802864857017994, 0.013232836499810219, 0.010729589499533176, 0.0033820453099906445]}, {'sequence': \"La première cherche à se différencier et gagner en avantage compétitif à travers la technologie, en s'appuyant dès le départ sur cette ressource technologique, ou dans un deuxième temps après formulation d'une stratégie concurrentielle.\", 'labels': ['Travail et croissance économique', 'Partenariats pour la réalisation des objectifs', 'Consommation et production responsables', 'Industrie, innovation et infrastructure', 'Villes durables', 'Faim', 'Éducation', 'Vie aquatique', 'Pauvreté', 'Vie terrestre', 'Inégalités réduites', 'Paix, justice et institutions efficaces', 'Eau propre', 'Énergie coût abordable', 'changement climatique', 'Bonne santé', 'Égalité entre les sexes'], 'scores': [0.6743746399879456, 0.652603268623352, 0.627549409866333, 0.6148169040679932, 0.45531606674194336, 0.4164724349975586, 0.3476870059967041, 0.31189772486686707, 0.3081401288509369, 0.29544737935066223, 0.22681039571762085, 0.1770794838666916, 0.15582852065563202, 0.15176212787628174, 0.14039692282676697, 0.1133546531200409, 0.03485364094376564]}, {'sequence': \"En revanche, la seconde supplie Chain l'adopte en raison de pressions externes.\", 'labels': ['changement climatique', 'Éducation', 'Inégalités réduites', 'Consommation et production responsables', 'Partenariats pour la réalisation des objectifs', 'Vie terrestre', 'Industrie, innovation et infrastructure', 'Énergie coût abordable', 'Vie aquatique', 'Villes durables', 'Faim', 'Paix, justice et institutions efficaces', 'Bonne santé', 'Travail et croissance économique', 'Égalité entre les sexes', 'Pauvreté', 'Eau propre'], 'scores': [0.7972919344902039, 0.34155508875846863, 0.29006263613700867, 0.27430954575538635, 0.22523030638694763, 0.16831766068935394, 0.13416339457035065, 0.12454880028963089, 0.0917549580335617, 0.09083086997270584, 0.06620905548334122, 0.04907694458961487, 0.04753957316279411, 0.04450766369700432, 0.03684085234999657, 0.033440008759498596, 0.031350426375865936]}, {'sequence': \"La première raison paraît mener les entreprises à davantage d'alignement stratégique.\", 'labels': ['Travail et croissance économique', 'Faim', 'Consommation et production responsables', 'Partenariats pour la réalisation des objectifs', 'Pauvreté', 'Vie terrestre', 'Villes durables', 'Vie aquatique', 'Industrie, innovation et infrastructure', 'Éducation', 'Eau propre', 'Bonne santé', 'Inégalités réduites', 'Énergie coût abordable', 'Paix, justice et institutions efficaces', 'changement climatique', 'Égalité entre les sexes'], 'scores': [0.8180158734321594, 0.7114130258560181, 0.6288720965385437, 0.42880919575691223, 0.41083478927612305, 0.4100014567375183, 0.38913384079933167, 0.35414785146713257, 0.3333238959312439, 0.24132391810417175, 0.22223009169101715, 0.11672911792993546, 0.09786784648895264, 0.09774086624383926, 0.049444060772657394, 0.021134469658136368, 0.007503204979002476]}, {'sequence': 'La thèse présente des conclusions permettant des contributions à la fois managériales, empiriques et académiques.', 'labels': ['Partenariats pour la réalisation des objectifs', 'Consommation et production responsables', 'Travail et croissance économique', 'Faim', 'Villes durables', 'Pauvreté', 'Vie terrestre', 'Inégalités réduites', 'Vie aquatique', 'Paix, justice et institutions efficaces', 'Énergie coût abordable', 'Éducation', 'Bonne santé', 'changement climatique', 'Eau propre', 'Égalité entre les sexes', 'Industrie, innovation et infrastructure'], 'scores': [0.6762688755989075, 0.5258278250694275, 0.39716774225234985, 0.36587661504745483, 0.24995295703411102, 0.2258598953485489, 0.21579520404338837, 0.1733071506023407, 0.1721528172492981, 0.14950068295001984, 0.1213541328907013, 0.11901488900184631, 0.07251882553100586, 0.058774273842573166, 0.05066646263003349, 0.04593954607844353, 0.04073883220553398]}, {'sequence': \"Les différents résultats guideront les professionnels à choisir la blockchain comme une opportunité à saisir dans le but d'améliorer leur attractivité externe et renforcer leurs relations inter-organisationnelles.\", 'labels': ['Faim', 'Travail et croissance économique', 'Vie terrestre', 'Pauvreté', 'Villes durables', 'Industrie, innovation et infrastructure', 'Consommation et production responsables', 'Inégalités réduites', 'Partenariats pour la réalisation des objectifs', 'Paix, justice et institutions efficaces', 'Eau propre', 'Énergie coût abordable', 'Vie aquatique', 'Égalité entre les sexes', 'Éducation', 'Bonne santé', 'changement climatique'], 'scores': [0.3388175368309021, 0.30193111300468445, 0.2633826732635498, 0.2410736083984375, 0.22552421689033508, 0.21387293934822083, 0.2005273699760437, 0.10811237245798111, 0.06814191490411758, 0.0629330724477768, 0.04353899136185646, 0.03454246744513512, 0.029187124222517014, 0.01972278766334057, 0.019187085330486298, 0.016140181571245193, 0.01054651290178299]}]\n"
     ]
    }
   ],
   "source": [
    "print(results)"
   ]
  },
  {
   "cell_type": "code",
   "execution_count": 45,
   "metadata": {},
   "outputs": [
    {
     "name": "stdout",
     "output_type": "stream",
     "text": [
      "Scores agrégés par ODD (classés par importance) :\n",
      "Industrie, innovation et infrastructure : 4.278\n",
      "Partenariats pour la réalisation des objectifs : 2.548\n",
      "Vie terrestre : 2.416\n",
      "changement climatique : 1.599\n",
      "Travail et croissance économique : 0.818\n",
      "Faim : 0.711\n",
      "Consommation et production responsables : 0.706\n",
      "Pauvreté : 0.000\n",
      "Bonne santé : 0.000\n",
      "Éducation : 0.000\n",
      "Égalité entre les sexes : 0.000\n",
      "Eau propre : 0.000\n",
      "Énergie coût abordable : 0.000\n",
      "Inégalités réduites : 0.000\n",
      "Villes durables : 0.000\n",
      "Vie aquatique : 0.000\n",
      "Paix, justice et institutions efficaces : 0.000\n",
      "\n",
      "Phrase la plus contributive par ODD (ordre d'importance) :\n",
      "Industrie, innovation et infrastructure (score 0.937) -> Une nouvelle technologie disruptive dans l'industrie fait son apparition en 2008, la blockchain, permettant aux entreprises d'adresser les clés nécessaires aux nouveaux enjeux présents dans la supplie Chain.\n",
      "Partenariats pour la réalisation des objectifs (score 0.917) -> Ceux-ci permettent de réels progrès à la fois en interne sur la performance de la production, mais également en externe, influençant la collaboration inter organisationnelle entre parties prenantes de l'écosystème.\n",
      "Vie terrestre (score 0.902) -> La thèse s'attache dans un premier temps à étudier la littérature sur le sujet et réaliser une analyse exploratoire du terrain.\n",
      "changement climatique (score 0.801) -> Cet aller-retour entre la littérature et le terrain conduit à l'élaboration d'un modèle conceptuel.\n",
      "Travail et croissance économique (score 0.818) -> La première raison paraît mener les entreprises à davantage d'alignement stratégique.\n",
      "Faim (score 0.711) -> La première raison paraît mener les entreprises à davantage d'alignement stratégique.\n",
      "Consommation et production responsables (score 0.706) -> Ceux-ci permettent de réels progrès à la fois en interne sur la performance de la production, mais également en externe, influençant la collaboration inter organisationnelle entre parties prenantes de l'écosystème.\n",
      "Pauvreté (score 0.000) -> \n",
      "Bonne santé (score 0.000) -> \n",
      "Éducation (score 0.000) -> \n",
      "Égalité entre les sexes (score 0.000) -> \n",
      "Eau propre (score 0.000) -> \n",
      "Énergie coût abordable (score 0.000) -> \n",
      "Inégalités réduites (score 0.000) -> \n",
      "Villes durables (score 0.000) -> \n",
      "Vie aquatique (score 0.000) -> \n",
      "Paix, justice et institutions efficaces (score 0.000) -> \n",
      "\n",
      "Temps d'inférence : 7.22 secondes\n"
     ]
    }
   ],
   "source": [
    "# Seuil pour prendre en compte le score d'une phrase\n",
    "threshold = 0.7\n",
    "\n",
    "# Agrégation des scores par ODD et identification de la phrase la plus contributive\n",
    "agg_scores = {label: 0.0 for label in candidate_labels}\n",
    "best_sentence_for_label = {label: (\"\", 0.0) for label in candidate_labels}\n",
    "\n",
    "for res in results:\n",
    "    for label, score in zip(res[\"labels\"], res[\"scores\"]):\n",
    "        if score >= threshold:\n",
    "            agg_scores[label] += score\n",
    "            # agg_scores[label] /= nb_sentences\n",
    "            if score > best_sentence_for_label[label][1]:\n",
    "                best_sentence_for_label[label] = (res[\"sequence\"], score)\n",
    "\n",
    "# Classer les ODD dans l'ordre d'importance\n",
    "sorted_odd = sorted(agg_scores.items(), key=lambda item: item[1], reverse=True)\n",
    "\n",
    "print(\"Scores agrégés par ODD (classés par importance) :\")\n",
    "for label, score in sorted_odd:\n",
    "    print(f\"{label} : {score:.3f}\")\n",
    "\n",
    "print(\"\\nPhrase la plus contributive par ODD (ordre d'importance) :\")\n",
    "for label, _ in sorted_odd:\n",
    "    sentence, score = best_sentence_for_label[label]\n",
    "    print(f\"{label} (score {score:.3f}) -> {sentence}\")\n",
    "\n",
    "print(f\"\\nTemps d'inférence : {inference_time:.2f} secondes\")"
   ]
  },
  {
   "cell_type": "code",
   "execution_count": null,
   "metadata": {},
   "outputs": [],
   "source": []
  }
 ],
 "metadata": {
  "kernelspec": {
   "display_name": "pfe_env",
   "language": "python",
   "name": "python3"
  },
  "language_info": {
   "codemirror_mode": {
    "name": "ipython",
    "version": 3
   },
   "file_extension": ".py",
   "mimetype": "text/x-python",
   "name": "python",
   "nbconvert_exporter": "python",
   "pygments_lexer": "ipython3",
   "version": "3.12.3"
  }
 },
 "nbformat": 4,
 "nbformat_minor": 2
}
